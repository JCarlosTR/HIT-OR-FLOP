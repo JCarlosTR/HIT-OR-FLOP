{
 "cells": [
  {
   "cell_type": "markdown",
   "metadata": {},
   "source": [
    "### Preprocessing employed to obtain data"
   ]
  },
  {
   "cell_type": "code",
   "execution_count": null,
   "metadata": {},
   "outputs": [],
   "source": [
    "import spotipy\n",
    "from spotipy.oauth2 import SpotifyClientCredentials\n",
    "import time\n",
    "from spotipy.oauth2 import SpotifyOAuth\n",
    "import requests\n",
    "import pandas as pd\n",
    "import numpy as np\n",
    "\n",
    "\n",
    "client_id2 = \"a7d5692bf0f744fdb9abf64e9d7d82ab\"\n",
    "client_secret2 = \"852229767e7e4e29989d91990383d928\"\n",
    "sp = spotipy.Spotify(auth_manager=SpotifyClientCredentials(client_id=client_id2, client_secret=client_secret2))\n",
    "\n",
    "# Function to get track name and artist name from SPOTIFY API\n",
    "def get_track_info(track_ids):\n",
    "    try:\n",
    "        tracks = sp.tracks(track_ids)['tracks']\n",
    "        time.sleep(60/150)\n",
    "        results = []\n",
    "        for track in tracks:\n",
    "            if \"error\" in track:\n",
    "                results.append([track_ids[tracks.index(track)], None, None, False])\n",
    "            else:\n",
    "                track_name = track['name']\n",
    "                artist_name = track['artists'][0]['name']\n",
    "                pop = track[\"popularity\"]\n",
    "                results.append([track['id'], track_name, artist_name, True, pop])\n",
    "        return results\n",
    "    except spotipy.exceptions.SpotifyException as e:\n",
    "        print(f\"SpotifyException: {e.http_status}\")\n",
    "        return [[track_id, None, None, False] for track_id in track_ids]\n",
    "    \n",
    "# Function to get artist's genres from SPOTIFY API\n",
    "def get_artist_genres(artist_name):\n",
    "    artist_info = sp.search(q=f'artist:{artist_name}', type='artist')\n",
    "    time.sleep(0.35)\n",
    "    if artist_info['artists']['items']:\n",
    "        artist = artist_info['artists']['items'][0]\n",
    "        genres = artist.get('genres', [])\n",
    "        return genres\n",
    "    return []\n"
   ]
  },
  {
   "cell_type": "code",
   "execution_count": null,
   "metadata": {},
   "outputs": [],
   "source": [
    "df_2021 = pd.read_csv('data_formatted.csv')\n",
    "df_2021 = df_2021.sort_values(by=\"popularity\", ascending=False)\n",
    "df_2021"
   ]
  },
  {
   "cell_type": "markdown",
   "metadata": {},
   "source": [
    "### GET SPOTIFY ARTISTS' GENRES\n",
    "This code guarantees accessing Spotify's API to obtain the genres on artist level for each of the artists in the dataset."
   ]
  },
  {
   "cell_type": "code",
   "execution_count": null,
   "metadata": {},
   "outputs": [],
   "source": [
    "\n",
    "\n",
    "\n",
    "df_aux_sp_genres = df_2021.copy()\n",
    "df_aux_sp_genres['gen_artist'] = None\n",
    "# Set para almacenar los artistas ya consultados\n",
    "consulted_artists = set()\n",
    "\n",
    "# Iterar sobre cada fila del DataFrame\n",
    "for index, row in df_aux_sp_genres.iterrows():\n",
    "    artists = str(row['artist_name'])\n",
    "    print(index)\n",
    "    if artists != \"nan\":\n",
    "        artists = artists.split(', ')\n",
    "        genres = []\n",
    "        for artist in artists:\n",
    "            if artist not in consulted_artists:\n",
    "                try:\n",
    "                    artist_genres = get_artist_genres(artist)\n",
    "                    consulted_artists.add(artist)\n",
    "                except requests.exceptions.ReadTimeout:\n",
    "                    print(f\"ReadTimeout occurred for artist: {artist}. Waiting for 10 seconds before retrying.\")\n",
    "                    time.sleep(10)\n",
    "                    artist_genres = get_artist_genres(artist)\n",
    "            else:\n",
    "                artist_genres = []\n",
    "            \n",
    "            genres.extend(artist_genres)\n",
    "        \n",
    "        df_aux_sp_genres.at[index, 'gen_artist'] = list(set(genres))  # Eliminar duplicados\n",
    "    \n",
    "    # partial save every 10000 iterations\n",
    "    # to avoid losing progress in case of an error\n",
    "    if index % 10000 == 0 and index != 0:\n",
    "        df_aux_sp_genres.to_csv(f\"spotify_artists_genres_2024_partial_{index//10000}.csv\", index=False)\n",
    "\n",
    "df_aux_sp_genres.to_csv(\"spotify_artists_genres_2024_n.csv\", index=False)\n",
    "\n",
    "df_aux_sp_genres\n",
    "\n"
   ]
  },
  {
   "cell_type": "markdown",
   "metadata": {},
   "source": [
    "This code is for obtaining popularity for 2025 for each song in the dataset. It creates 50 songs' batches and then checks its popularity, track_name and artist_name. It only requieres an Spotify track_id to check the API."
   ]
  },
  {
   "cell_type": "code",
   "execution_count": null,
   "metadata": {},
   "outputs": [],
   "source": [
    "\n",
    "# Initialize an empty list to store track_ids\n",
    "track_ids = []\n",
    "\n",
    "# Initialize an empty dataframe to store the results\n",
    "df_aux = pd.DataFrame(columns=['id', 'track_name', 'artist_name', 'estado_solicitud', \"new_popularity_2025\"])\n",
    "\n",
    "# Iterate over the rows of the dataframe prueba\n",
    "for index, row in df.iterrows():\n",
    "    print(index)\n",
    "    track_ids.append(row['id'])\n",
    "    # When the length of the list is 50, call get_track_info\n",
    "    if len(track_ids) == 50:\n",
    "        track_info = get_track_info(track_ids)\n",
    "        \n",
    "        # Create a temporary dataframe from the track_info\n",
    "        temp_df = pd.DataFrame(track_info, columns=['id', 'track_name', 'artist_name', 'estado_solicitud',\"new_popularity_2025\"])\n",
    "        \n",
    "        # Append the temporary dataframe to df_aux\n",
    "        df_aux = pd.concat([df_aux, temp_df], ignore_index=True)\n",
    "        \n",
    "        # Clear the track_ids list\n",
    "        track_ids = []\n",
    "\n",
    "# If there are any remaining track_ids, call get_track_info for the last batch\n",
    "if track_ids:\n",
    "    track_info = get_track_info(track_ids)\n",
    "    temp_df = pd.DataFrame(track_info, columns=['id', 'track_name', 'artist_name', 'estado_solicitud',\"new_popularity_2025\"])\n",
    "    df_aux = pd.concat([df_aux, temp_df], ignore_index=True)\n",
    "\n",
    "\n",
    "\n",
    "df_final = pd.merge(df_aux, df, on='id', how='inner')\n",
    "df_final = df_final.drop(columns=['estado_solicitud'])\n",
    "df_final"
   ]
  }
 ],
 "metadata": {
  "language_info": {
   "name": "python"
  }
 },
 "nbformat": 4,
 "nbformat_minor": 2
}
